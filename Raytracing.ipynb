{
 "cells": [
  {
   "cell_type": "markdown",
   "metadata": {},
   "source": [
    "# Raytracing - theory and implementation\n",
    "\n",
    "![Example image](example.png)\n",
    "\n",
    "## Introduction\n",
    "\n",
    "I am currently exploring Jupyter notebooks and thought that I could thorougly take advantage of their features by writing and learning about a topic that has both interesting theory and practical application.\n",
    "\n",
    "Raytracing has always fascinated me, the algorithm seems simple and elegant, yet there is some solid mathematical theory behind it. Because it generates attractive, almost realistic images, it has also the advantage of quick gratification and feedback.\n",
    "\n",
    "## Theory: ray-object intersections\n",
    "### General\n",
    "\n",
    "At the heart of raytracing lies the test if a ray that originates at a certain viewpoint intersects an object in our model world.\n",
    "\n",
    "### Definitions\n",
    "\n",
    "A ray is comprised of to vector, an origin vector $R_{orig}$ and a direction vector $R_{dir}$.\n",
    "\n",
    "$R_{orig}=\\begin{bmatrix}x_o & y_o & z_o\\end{bmatrix} \\textrm{and }\\\\ R_{dir}=\\begin{bmatrix}x_d & y_d & z_d\\end{bmatrix}, \\textrm{where } |R_{dir}| = x_d^2 + y_d^2 + z_d^2 = 1$\n",
    "\n",
    "So a ray is represented as\n",
    "\n",
    "$$R(t) = R_{orig} + R_{dir} * t, \\textrm{where } t > 0$$\n",
    "\n",
    "\n",
    "## The camera\n",
    "### Description\n",
    "\n",
    "We can model the camera as a view position $cam_{orig}$"
   ]
  },
  {
   "cell_type": "code",
   "execution_count": 2,
   "metadata": {
    "collapsed": false
   },
   "outputs": [
    {
     "name": "stdout",
     "output_type": "stream",
     "text": [
      "cam_right =  [ 1. -0.  0.]\n",
      "cam_up' =  [ 0.  1.  0.]\n",
      "img_point:  [ -0.490625  -0.49      99.      ]\n",
      "ray direction:  [-0.490625 -0.49     -1.      ]\n",
      "ray direction (normalized):  [-0.40318056 -0.40266695 -0.82176929]\n"
     ]
    }
   ],
   "source": [
    "import numpy as np\n",
    "import numpy.linalg as LA\n",
    "import math\n",
    "\n",
    "def normalize_pixel(x, y, width, height):\n",
    "    return (x / width) - 0.5, (y / height) - 0.5\n",
    "    \n",
    "# define the camera origin at (0 0 100)\n",
    "# the camera direction vector as (0 0 -1)\n",
    "# and the camera up vector as (0 1 0)\n",
    "cam_orig = np.array([0.0, 0.0, 100.0])\n",
    "cam_dir = np.array([0.0, 0.0, -1.0])\n",
    "cam_up = np.array([0.0, 1.0, 0.0])\n",
    "cam_right = np.cross(cam_dir, cam_up)\n",
    "print(\"cam_right = \", cam_right)\n",
    "cam_up2 = np.cross(cam_right, cam_dir)\n",
    "print(\"cam_up' = \", cam_up2)\n",
    "\n",
    "x = 3\n",
    "y = 2\n",
    "width = 320\n",
    "height = 200\n",
    "ni, nj = normalize_pixel(x, y, width, height)\n",
    "img_point = ni * cam_right + nj * cam_up + cam_orig + cam_dir\n",
    "ray_dir = img_point - cam_orig\n",
    "ray_dir_norm = ray_dir / LA.norm(ray_dir)\n",
    "\n",
    "print(\"img_point: \", img_point)\n",
    "print(\"ray direction: \", ray_dir)\n",
    "print(\"ray direction (normalized): \", ray_dir_norm)\n",
    "\n"
   ]
  },
  {
   "cell_type": "code",
   "execution_count": 1,
   "metadata": {
    "collapsed": false
   },
   "outputs": [
    {
     "name": "stdout",
     "output_type": "stream",
     "text": [
      "{'width': 400, 'height': 300}\n"
     ]
    }
   ],
   "source": [
    "import json\n",
    "with open('scene.json') as infile:\n",
    "    scene = json.load(infile)\n",
    "print(scene['viewport'])"
   ]
  },
  {
   "cell_type": "code",
   "execution_count": null,
   "metadata": {
    "collapsed": true
   },
   "outputs": [],
   "source": []
  }
 ],
 "metadata": {
  "celltoolbar": "Raw Cell Format",
  "kernelspec": {
   "display_name": "Python 3",
   "language": "python",
   "name": "python3"
  },
  "language_info": {
   "codemirror_mode": {
    "name": "ipython",
    "version": 3
   },
   "file_extension": ".py",
   "mimetype": "text/x-python",
   "name": "python",
   "nbconvert_exporter": "python",
   "pygments_lexer": "ipython3",
   "version": "3.5.2"
  }
 },
 "nbformat": 4,
 "nbformat_minor": 0
}
